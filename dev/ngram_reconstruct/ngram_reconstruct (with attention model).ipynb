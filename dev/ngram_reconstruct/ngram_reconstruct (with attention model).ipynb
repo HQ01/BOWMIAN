{
 "cells": [
  {
   "cell_type": "code",
   "execution_count": 1,
   "metadata": {},
   "outputs": [],
   "source": [
    "%matplotlib inline"
   ]
  },
  {
   "cell_type": "markdown",
   "metadata": {},
   "source": [
    "**Requirements**\n",
    "\n"
   ]
  },
  {
   "cell_type": "code",
   "execution_count": 2,
   "metadata": {},
   "outputs": [],
   "source": [
    "from __future__ import unicode_literals, print_function, division\n",
    "from io import open\n",
    "from collections import OrderedDict\n",
    "import unicodedata\n",
    "import string\n",
    "import re\n",
    "import random\n",
    "import numpy as np\n",
    "import pickle as pkl\n",
    "import spacy\n",
    "nlp = spacy.load('en')\n",
    "\n",
    "import torch\n",
    "import torch.nn as nn\n",
    "from torch.autograd import Variable\n",
    "from torch import optim\n",
    "import torch.nn.functional as F\n",
    "\n",
    "use_cuda = torch.cuda.is_available()"
   ]
  },
  {
   "cell_type": "markdown",
   "metadata": {},
   "source": [
    "**Settings**"
   ]
  },
  {
   "cell_type": "code",
   "execution_count": 3,
   "metadata": {},
   "outputs": [],
   "source": [
    "ORDER = 2\n",
    "NUM_WORDS = 10000"
   ]
  },
  {
   "cell_type": "markdown",
   "metadata": {},
   "source": [
    "**Preprocessing Data**"
   ]
  },
  {
   "cell_type": "code",
   "execution_count": 4,
   "metadata": {},
   "outputs": [],
   "source": [
    "SOS_token = 0\n",
    "EOS_token = 1\n",
    "\n",
    "def extract_ngrams(vocab, sent, order):\n",
    "    ngrams = []\n",
    "    \n",
    "    # tokenization\n",
    "    uwords = [t.text for t in nlp(str(sent))]\n",
    "    \n",
    "    # extract ngrams\n",
    "    for oo in range(1, order + 1):\n",
    "        for ng in set([' '.join(t).strip() for t in zip(*[uwords[i:] for i in range(oo)])]):\n",
    "            ngrams.append(ng)\n",
    "            if ng in vocab:\n",
    "                vocab[ng] += 1\n",
    "            else:\n",
    "                vocab[ng] = 1\n",
    "\n",
    "\n",
    "    return vocab, ngrams\n",
    "\n",
    "class Lang:\n",
    "    def __init__(self, name, order):\n",
    "        self.name = name\n",
    "        \n",
    "        # for single words\n",
    "        self.word2index = {}\n",
    "        self.word2count = {}\n",
    "        self.index2word = {0: \"SOS\", 1: \"EOS\"}\n",
    "        self.n_words = 2  # Count SOS and EOS\n",
    "        \n",
    "        # for ngrams\n",
    "        self.order = order\n",
    "        self.vocab0 = OrderedDict()\n",
    "\n",
    "    def addSentence(self, sentence):\n",
    "        for word in sentence.split(' '):\n",
    "            self.addWord(word)\n",
    "        self.vocab0, ngrams = extract_ngrams(self.vocab0, sentence, self.order)\n",
    "        return ngrams\n",
    "\n",
    "    def addWord(self, word):\n",
    "        if word not in self.word2index:\n",
    "            self.word2index[word] = self.n_words\n",
    "            self.word2count[word] = 1\n",
    "            self.index2word[self.n_words] = word\n",
    "            self.n_words += 1\n",
    "        else:\n",
    "            self.word2count[word] += 1\n",
    "    \n",
    "    def createNGramDictionary(self):\n",
    "        tokens = list(self.vocab0.keys())\n",
    "        freqs = list(self.vocab0.values())\n",
    "        sidx = np.argsort(freqs)[::-1]\n",
    "        vocab = OrderedDict([(tokens[s], i) for i, s in enumerate(sidx)])\n",
    "        return vocab"
   ]
  },
  {
   "cell_type": "code",
   "execution_count": 5,
   "metadata": {},
   "outputs": [],
   "source": [
    "# Turn a Unicode string to plain ASCII, thanks to\n",
    "# http://stackoverflow.com/a/518232/2809427\n",
    "def unicodeToAscii(s):\n",
    "    return ''.join(\n",
    "        c for c in unicodedata.normalize('NFD', s)\n",
    "        if unicodedata.category(c) != 'Mn'\n",
    "    )\n",
    "\n",
    "# Lowercase, trim, and remove non-letter characters\n",
    "\n",
    "\n",
    "def normalizeString(s):\n",
    "    s = unicodeToAscii(s.lower().strip())\n",
    "    s = re.sub(r\"([.!?])\", r\" \\1\", s)\n",
    "    s = re.sub(r\"[^a-zA-Z.!?]+\", r\" \", s)\n",
    "    return s"
   ]
  },
  {
   "cell_type": "code",
   "execution_count": 6,
   "metadata": {},
   "outputs": [],
   "source": [
    "def readLangs(lang1, lang2, order, reverse=False):\n",
    "    print(\"Reading lines...\")\n",
    "\n",
    "    # Read the file and split into lines\n",
    "    lines = open('%s-%s.txt' % (lang1, lang2), encoding='utf-8').\\\n",
    "        read().strip().split('\\n')\n",
    "\n",
    "    # Split every line into pairs and normalize\n",
    "    pairs = [[normalizeString(s) for s in l.split('\\t')] for l in lines]\n",
    "\n",
    "    # Reverse pairs, make Lang instances\n",
    "    if reverse:\n",
    "        pairs = [list(reversed(p)) for p in pairs]\n",
    "        input_lang = Lang(lang2, order)\n",
    "        output_lang = Lang(lang1, order)\n",
    "    else:\n",
    "        input_lang = Lang(lang1, order)\n",
    "        output_lang = Lang(lang2, order)\n",
    "\n",
    "    return input_lang, output_lang, pairs"
   ]
  },
  {
   "cell_type": "code",
   "execution_count": 7,
   "metadata": {},
   "outputs": [],
   "source": [
    "MAX_LENGTH = 7\n",
    "\n",
    "eng_prefixes = (\n",
    "    \"i am \", \"i m \",\n",
    "    \"he is\", \"he s \",\n",
    "    \"she is\", \"she s\",\n",
    "    \"you are\", \"you re \",\n",
    "    \"we are\", \"we re \",\n",
    "    \"they are\", \"they re \"\n",
    ")\n",
    "\n",
    "\n",
    "def filterPair(p):\n",
    "    return len(p[0].split(' ')) < MAX_LENGTH and \\\n",
    "        len(p[1].split(' ')) < MAX_LENGTH and \\\n",
    "        p[1].startswith(eng_prefixes)\n",
    "\n",
    "\n",
    "def filterPairs(pairs):\n",
    "    return [pair for pair in pairs if filterPair(pair)]"
   ]
  },
  {
   "cell_type": "code",
   "execution_count": 8,
   "metadata": {},
   "outputs": [
    {
     "name": "stdout",
     "output_type": "stream",
     "text": [
      "Reading lines...\n",
      "Read 135842 sentence pairs\n",
      "Trimmed to 5412 sentence pairs\n",
      "Counting words...\n",
      "Counted words:\n",
      "eng 1644\n",
      "[['we', 're', 'just', '.', 'scared', 'just scared', 're just', 'scared .', 'we re'], 'we re just scared .']\n"
     ]
    }
   ],
   "source": [
    "def prepareData(lang1, lang2, order, reverse=False):\n",
    "    data = []\n",
    "    input_lang, output_lang, pairs = readLangs(lang1, lang2, order, reverse)\n",
    "    print(\"Read %s sentence pairs\" % len(pairs))\n",
    "    pairs = filterPairs(pairs)\n",
    "    print(\"Trimmed to %s sentence pairs\" % len(pairs))\n",
    "    print(\"Counting words...\")\n",
    "    for pair in pairs:\n",
    "        #input_lang.addSentence(pair[0])\n",
    "        pair[0] = output_lang.addSentence(pair[1])\n",
    "\n",
    "    print(\"Counted words:\")\n",
    "#     print(input_lang.name, input_lang.n_words)\n",
    "    print(output_lang.name, output_lang.n_words)\n",
    "    return input_lang, output_lang, pairs\n",
    "\n",
    "input_lang, output_lang, pairs = prepareData('eng', 'fra', ORDER, True)\n",
    "vocab_ngrams = output_lang.createNGramDictionary()\n",
    "print(random.choice(pairs))"
   ]
  },
  {
   "cell_type": "code",
   "execution_count": 9,
   "metadata": {},
   "outputs": [
    {
     "data": {
      "text/plain": [
       "6711"
      ]
     },
     "execution_count": 9,
     "metadata": {},
     "output_type": "execute_result"
    }
   ],
   "source": [
    "len(vocab_ngrams)"
   ]
  },
  {
   "cell_type": "markdown",
   "metadata": {},
   "source": [
    "The Seq2Seq Model\n",
    "=================\n",
    "\n",
    "A Recurrent Neural Network, or RNN, is a network that operates on a\n",
    "sequence and uses its own output as input for subsequent steps.\n",
    "\n",
    "A `Sequence to Sequence network <http://arxiv.org/abs/1409.3215>`__, or\n",
    "seq2seq network, or `Encoder Decoder\n",
    "network <https://arxiv.org/pdf/1406.1078v3.pdf>`__, is a model\n",
    "consisting of two RNNs called the encoder and decoder. The encoder reads\n",
    "an input sequence and outputs a single vector, and the decoder reads\n",
    "that vector to produce an output sequence.\n",
    "\n",
    ".. figure:: /_static/img/seq-seq-images/seq2seq.png\n",
    "   :alt:\n",
    "\n",
    "Unlike sequence prediction with a single RNN, where every input\n",
    "corresponds to an output, the seq2seq model frees us from sequence\n",
    "length and order, which makes it ideal for translation between two\n",
    "languages.\n",
    "\n",
    "Consider the sentence \"Je ne suis pas le chat noir\" → \"I am not the\n",
    "black cat\". Most of the words in the input sentence have a direct\n",
    "translation in the output sentence, but are in slightly different\n",
    "orders, e.g. \"chat noir\" and \"black cat\". Because of the \"ne/pas\"\n",
    "construction there is also one more word in the input sentence. It would\n",
    "be difficult to produce a correct translation directly from the sequence\n",
    "of input words.\n",
    "\n",
    "With a seq2seq model the encoder creates a single vector which, in the\n",
    "ideal case, encodes the \"meaning\" of the input sequence into a single\n",
    "vector — a single point in some N dimensional space of sentences.\n",
    "\n",
    "\n"
   ]
  },
  {
   "cell_type": "markdown",
   "metadata": {},
   "source": [
    "The Encoder\n",
    "-----------\n",
    "\n",
    "The encoder of a seq2seq network is a RNN that outputs some value for\n",
    "every word from the input sentence. For every input word the encoder\n",
    "outputs a vector and a hidden state, and uses the hidden state for the\n",
    "next input word.\n",
    "\n",
    ".. figure:: /_static/img/seq-seq-images/encoder-network.png\n",
    "   :alt:\n",
    "\n",
    "\n",
    "\n"
   ]
  },
  {
   "cell_type": "code",
   "execution_count": 10,
   "metadata": {},
   "outputs": [],
   "source": [
    "# class EncoderRNN(nn.Module):\n",
    "#     def __init__(self, input_size, hidden_size):\n",
    "#         super(EncoderRNN, self).__init__()\n",
    "#         self.hidden_size = hidden_size\n",
    "\n",
    "#         self.embedding = nn.Embedding(input_size, hidden_size)\n",
    "#         self.gru = nn.GRU(hidden_size, hidden_size)\n",
    "\n",
    "#     def forward(self, input, hidden):\n",
    "#         embedded = self.embedding(input).view(1, 1, -1)\n",
    "#         output = embedded\n",
    "#         output, hidden = self.gru(output, hidden)\n",
    "#         return output, hidden\n",
    "\n",
    "#     def initHidden(self):\n",
    "#         result = Variable(torch.zeros(1, 1, self.hidden_size))\n",
    "#         if use_cuda:\n",
    "#             return result.cuda()\n",
    "#         else:\n",
    "#             return result\n",
    "\n",
    "class NGramEncoder(nn.Module):\n",
    "    def __init__(self, input_size, hidden_size):\n",
    "        super(NGramEncoder, self).__init__()\n",
    "        self.hidden_size = hidden_size\n",
    "        self.embedding = nn.Embedding(input_size, hidden_size)\n",
    "    \n",
    "    def forward(self, input, hidden):\n",
    "        embedded = self.embedding(input).view(1, 1, -1)\n",
    "        output = embedded\n",
    "        hidden = hidden + embedded\n",
    "        return output, hidden\n",
    "    \n",
    "    def initHidden(self):\n",
    "        result = Variable(torch.zeros(1, 1, self.hidden_size))\n",
    "        if use_cuda:\n",
    "            return result.cuda()\n",
    "        else:\n",
    "            return result"
   ]
  },
  {
   "cell_type": "markdown",
   "metadata": {},
   "source": [
    "The Decoder\n",
    "-----------\n",
    "\n",
    "The decoder is another RNN that takes the encoder output vector(s) and\n",
    "outputs a sequence of words to create the translation.\n",
    "\n",
    "\n"
   ]
  },
  {
   "cell_type": "markdown",
   "metadata": {},
   "source": [
    "Simple Decoder\n",
    "^^^^^^^^^^^^^^\n",
    "\n",
    "In the simplest seq2seq decoder we use only last output of the encoder.\n",
    "This last output is sometimes called the *context vector* as it encodes\n",
    "context from the entire sequence. This context vector is used as the\n",
    "initial hidden state of the decoder.\n",
    "\n",
    "At every step of decoding, the decoder is given an input token and\n",
    "hidden state. The initial input token is the start-of-string ``<SOS>``\n",
    "token, and the first hidden state is the context vector (the encoder's\n",
    "last hidden state).\n",
    "\n",
    ".. figure:: /_static/img/seq-seq-images/decoder-network.png\n",
    "   :alt:\n",
    "\n",
    "\n",
    "\n"
   ]
  },
  {
   "cell_type": "code",
   "execution_count": 11,
   "metadata": {},
   "outputs": [],
   "source": [
    "class DecoderRNN(nn.Module):\n",
    "    def __init__(self, hidden_size, output_size):\n",
    "        super(DecoderRNN, self).__init__()\n",
    "        self.hidden_size = hidden_size\n",
    "\n",
    "        self.embedding = nn.Embedding(output_size, hidden_size)\n",
    "        self.gru = nn.GRU(hidden_size, hidden_size)\n",
    "        self.out = nn.Linear(hidden_size, output_size)\n",
    "        self.softmax = nn.LogSoftmax(dim=1)\n",
    "\n",
    "    def forward(self, input, hidden):\n",
    "        output = self.embedding(input).view(1, 1, -1)\n",
    "        output = F.relu(output)\n",
    "        output, hidden = self.gru(output, hidden)\n",
    "        output = self.softmax(self.out(output[0]))\n",
    "        return output, hidden\n",
    "\n",
    "    def initHidden(self):\n",
    "        result = Variable(torch.zeros(1, 1, self.hidden_size))\n",
    "        if use_cuda:\n",
    "            return result.cuda()\n",
    "        else:\n",
    "            return result"
   ]
  },
  {
   "cell_type": "markdown",
   "metadata": {},
   "source": [
    "I encourage you to train and observe the results of this model, but to\n",
    "save space we'll be going straight for the gold and introducing the\n",
    "Attention Mechanism.\n",
    "\n",
    "\n"
   ]
  },
  {
   "cell_type": "markdown",
   "metadata": {},
   "source": [
    "Attention Decoder\n",
    "^^^^^^^^^^^^^^^^^\n",
    "\n",
    "If only the context vector is passed betweeen the encoder and decoder,\n",
    "that single vector carries the burden of encoding the entire sentence.\n",
    "\n",
    "Attention allows the decoder network to \"focus\" on a different part of\n",
    "the encoder's outputs for every step of the decoder's own outputs. First\n",
    "we calculate a set of *attention weights*. These will be multiplied by\n",
    "the encoder output vectors to create a weighted combination. The result\n",
    "(called ``attn_applied`` in the code) should contain information about\n",
    "that specific part of the input sequence, and thus help the decoder\n",
    "choose the right output words.\n",
    "\n",
    ".. figure:: https://i.imgur.com/1152PYf.png\n",
    "   :alt:\n",
    "\n",
    "Calculating the attention weights is done with another feed-forward\n",
    "layer ``attn``, using the decoder's input and hidden state as inputs.\n",
    "Because there are sentences of all sizes in the training data, to\n",
    "actually create and train this layer we have to choose a maximum\n",
    "sentence length (input length, for encoder outputs) that it can apply\n",
    "to. Sentences of the maximum length will use all the attention weights,\n",
    "while shorter sentences will only use the first few.\n",
    "\n",
    ".. figure:: /_static/img/seq-seq-images/attention-decoder-network.png\n",
    "   :alt:\n",
    "\n",
    "\n",
    "\n"
   ]
  },
  {
   "cell_type": "code",
   "execution_count": 12,
   "metadata": {},
   "outputs": [],
   "source": [
    "class AttnDecoderRNN(nn.Module):\n",
    "    def __init__(self, hidden_size, output_size, dropout_p=0.1, max_length=MAX_LENGTH*ORDER):\n",
    "        super(AttnDecoderRNN, self).__init__()\n",
    "        self.hidden_size = hidden_size\n",
    "        self.output_size = output_size\n",
    "        self.dropout_p = dropout_p\n",
    "        self.max_length = max_length\n",
    "\n",
    "        self.embedding = nn.Embedding(self.output_size, self.hidden_size)\n",
    "        self.attn = nn.Linear(self.hidden_size * 2, self.max_length)\n",
    "        self.attn_combine = nn.Linear(self.hidden_size * 2, self.hidden_size)\n",
    "        self.dropout = nn.Dropout(self.dropout_p)\n",
    "        self.gru = nn.GRU(self.hidden_size, self.hidden_size)\n",
    "        self.out = nn.Linear(self.hidden_size, self.output_size)\n",
    "\n",
    "    def forward(self, input, hidden, encoder_outputs):\n",
    "        embedded = self.embedding(input).view(1, 1, -1)\n",
    "        embedded = self.dropout(embedded)\n",
    "\n",
    "        attn_weights = F.softmax(\n",
    "            self.attn(torch.cat((embedded[0], hidden[0]), 1)), dim=1)\n",
    "        attn_applied = torch.bmm(attn_weights.unsqueeze(0),\n",
    "                                 encoder_outputs.unsqueeze(0))\n",
    "\n",
    "        output = torch.cat((embedded[0], attn_applied[0]), 1)\n",
    "        output = self.attn_combine(output).unsqueeze(0)\n",
    "\n",
    "        output = F.relu(output)\n",
    "        output, hidden = self.gru(output, hidden)\n",
    "\n",
    "        output = F.log_softmax(self.out(output[0]), dim=1)\n",
    "        return output, hidden, attn_weights\n",
    "\n",
    "    def initHidden(self):\n",
    "        result = Variable(torch.zeros(1, 1, self.hidden_size))\n",
    "        if use_cuda:\n",
    "            return result.cuda()\n",
    "        else:\n",
    "            return result"
   ]
  },
  {
   "cell_type": "markdown",
   "metadata": {},
   "source": [
    "# Training\n",
    "\n",
    "## Preparing Training Data"
   ]
  },
  {
   "cell_type": "code",
   "execution_count": 13,
   "metadata": {},
   "outputs": [],
   "source": [
    "def indexesFromSentence(lang, sentence):\n",
    "    return [lang.word2index[word] for word in sentence.split(' ')]\n",
    "\n",
    "\n",
    "def variableFromSentence(lang, sentence):\n",
    "    indexes = indexesFromSentence(lang, sentence)\n",
    "    indexes.append(EOS_token)\n",
    "    result = Variable(torch.LongTensor(indexes).view(-1, 1))\n",
    "    if use_cuda:\n",
    "        return result.cuda()\n",
    "    else:\n",
    "        return result\n",
    "\n",
    "\n",
    "def indexesFromNGramList(vocab, ngram_list, order, num_words):\n",
    "    result = []\n",
    "    for ng in ngram_list:\n",
    "        if ng in vocab:\n",
    "            idx = vocab[ng]\n",
    "            if idx > num_words:\n",
    "                pass\n",
    "            else:\n",
    "                result.append(idx)\n",
    "        else:\n",
    "            pass\n",
    "    return result\n",
    "    \n",
    "    \n",
    "def variableFromNGramList(vocab, ngram_list, order, num_words):\n",
    "    indexes = indexesFromNGramList(vocab, ngram_list, order, num_words)\n",
    "    result = Variable(torch.LongTensor(indexes).view(-1, 1))\n",
    "    if use_cuda:\n",
    "        return result.cuda()\n",
    "    else:\n",
    "        return result\n",
    "    \n",
    "    \n",
    "def variablesFromPair(pair):\n",
    "    input_variable = variableFromNGramList(vocab_ngrams, pair[0], ORDER, NUM_WORDS)\n",
    "    target_variable = variableFromSentence(output_lang, pair[1])\n",
    "    return (input_variable, target_variable)"
   ]
  },
  {
   "cell_type": "code",
   "execution_count": 14,
   "metadata": {},
   "outputs": [
    {
     "name": "stdout",
     "output_type": "stream",
     "text": [
      "[['m', '.', 'i', 'going', 'going .', 'i m', 'm going'], 'i m going .']\n",
      "(Variable containing:\n",
      "    5\n",
      "    0\n",
      "    3\n",
      "   46\n",
      "  480\n",
      "    6\n",
      "  141\n",
      "[torch.cuda.LongTensor of size 7x1 (GPU 0)]\n",
      ", Variable containing:\n",
      "  2\n",
      "  3\n",
      " 61\n",
      "  4\n",
      "  1\n",
      "[torch.cuda.LongTensor of size 5x1 (GPU 0)]\n",
      ")\n",
      "[2, 3, 12, 4]\n"
     ]
    }
   ],
   "source": [
    "print(pairs[100])\n",
    "print(variablesFromPair(pairs[100]))\n",
    "print(indexesFromSentence(output_lang, 'i m shy .'))"
   ]
  },
  {
   "cell_type": "markdown",
   "metadata": {},
   "source": [
    "Training the Model\n",
    "------------------\n",
    "\n",
    "To train we run the input sentence through the encoder, and keep track\n",
    "of every output and the latest hidden state. Then the decoder is given\n",
    "the ``<SOS>`` token as its first input, and the last hidden state of the\n",
    "encoder as its first hidden state.\n",
    "\n",
    "\"Teacher forcing\" is the concept of using the real target outputs as\n",
    "each next input, instead of using the decoder's guess as the next input.\n",
    "Using teacher forcing causes it to converge faster but `when the trained\n",
    "network is exploited, it may exhibit\n",
    "instability <http://minds.jacobs-university.de/sites/default/files/uploads/papers/ESNTutorialRev.pdf>`__.\n",
    "\n",
    "You can observe outputs of teacher-forced networks that read with\n",
    "coherent grammar but wander far from the correct translation -\n",
    "intuitively it has learned to represent the output grammar and can \"pick\n",
    "up\" the meaning once the teacher tells it the first few words, but it\n",
    "has not properly learned how to create the sentence from the translation\n",
    "in the first place.\n",
    "\n",
    "Because of the freedom PyTorch's autograd gives us, we can randomly\n",
    "choose to use teacher forcing or not with a simple if statement. Turn\n",
    "``teacher_forcing_ratio`` up to use more of it.\n",
    "\n",
    "\n"
   ]
  },
  {
   "cell_type": "code",
   "execution_count": 15,
   "metadata": {},
   "outputs": [],
   "source": [
    "teacher_forcing_ratio = 0.5\n",
    "\n",
    "\n",
    "def train(input_variable, target_variable, encoder, decoder, encoder_optimizer, decoder_optimizer, criterion, max_length=MAX_LENGTH*ORDER):\n",
    "    encoder_hidden = encoder.initHidden()\n",
    "\n",
    "    encoder_optimizer.zero_grad()\n",
    "    decoder_optimizer.zero_grad()\n",
    "\n",
    "    input_length = input_variable.size()[0]\n",
    "    target_length = target_variable.size()[0]\n",
    "\n",
    "    encoder_outputs = Variable(torch.zeros(max_length, encoder.hidden_size))\n",
    "    encoder_outputs = encoder_outputs.cuda() if use_cuda else encoder_outputs\n",
    "\n",
    "    loss = 0\n",
    "    for ei in range(input_length):\n",
    "        encoder_output, encoder_hidden = encoder(\n",
    "            input_variable[ei], encoder_hidden)\n",
    "        encoder_outputs[ei] = encoder_output[0][0]\n",
    "\n",
    "    decoder_input = Variable(torch.LongTensor([[SOS_token]]))\n",
    "    decoder_input = decoder_input.cuda() if use_cuda else decoder_input\n",
    "\n",
    "    decoder_hidden = encoder_hidden\n",
    "\n",
    "    use_teacher_forcing = True if random.random() < teacher_forcing_ratio else False\n",
    "\n",
    "    if use_teacher_forcing:\n",
    "        # Teacher forcing: Feed the target as the next input\n",
    "        for di in range(target_length):\n",
    "            decoder_output, decoder_hidden, decoder_attention = decoder(\n",
    "                decoder_input, decoder_hidden, encoder_outputs)\n",
    "#             decoder_output, decoder_hidden = decoder(\n",
    "#                 decoder_input, decoder_hidden)\n",
    "            loss += criterion(decoder_output, target_variable[di])\n",
    "            decoder_input = target_variable[di]  # Teacher forcing\n",
    "\n",
    "    else:\n",
    "        # Without teacher forcing: use its own predictions as the next input\n",
    "        for di in range(target_length):\n",
    "            decoder_output, decoder_hidden, decoder_attention = decoder(\n",
    "                decoder_input, decoder_hidden, encoder_outputs)\n",
    "#             decoder_output, decoder_hidden = decoder(\n",
    "#                 decoder_input, decoder_hidden)\n",
    "            topv, topi = decoder_output.data.topk(1)\n",
    "            ni = topi[0][0]\n",
    "\n",
    "            decoder_input = Variable(torch.LongTensor([[ni]]))\n",
    "            decoder_input = decoder_input.cuda() if use_cuda else decoder_input\n",
    "\n",
    "            loss += criterion(decoder_output, target_variable[di])\n",
    "            if ni == EOS_token:\n",
    "                break\n",
    "\n",
    "    loss.backward()\n",
    "\n",
    "    encoder_optimizer.step()\n",
    "    decoder_optimizer.step()\n",
    "\n",
    "    return loss.data[0] / target_length"
   ]
  },
  {
   "cell_type": "markdown",
   "metadata": {},
   "source": [
    "This is a helper function to print time elapsed and estimated time\n",
    "remaining given the current time and progress %.\n",
    "\n",
    "\n"
   ]
  },
  {
   "cell_type": "code",
   "execution_count": 16,
   "metadata": {},
   "outputs": [],
   "source": [
    "import time\n",
    "import math\n",
    "\n",
    "\n",
    "def asMinutes(s):\n",
    "    m = math.floor(s / 60)\n",
    "    s -= m * 60\n",
    "    return '%dm %ds' % (m, s)\n",
    "\n",
    "\n",
    "def timeSince(since, percent):\n",
    "    now = time.time()\n",
    "    s = now - since\n",
    "    es = s / (percent)\n",
    "    rs = es - s\n",
    "    return '%s (- %s)' % (asMinutes(s), asMinutes(rs))"
   ]
  },
  {
   "cell_type": "markdown",
   "metadata": {},
   "source": [
    "The whole training process looks like this:\n",
    "\n",
    "-  Start a timer\n",
    "-  Initialize optimizers and criterion\n",
    "-  Create set of training pairs\n",
    "-  Start empty losses array for plotting\n",
    "\n",
    "Then we call ``train`` many times and occasionally print the progress (%\n",
    "of examples, time so far, estimated time) and average loss.\n",
    "\n",
    "\n"
   ]
  },
  {
   "cell_type": "code",
   "execution_count": 17,
   "metadata": {},
   "outputs": [],
   "source": [
    "def trainIters(encoder, decoder, n_iters, print_every=1000, plot_every=100, learning_rate=0.01):\n",
    "    start = time.time()\n",
    "    plot_losses = []\n",
    "    print_loss_total = 0  # Reset every print_every\n",
    "    plot_loss_total = 0  # Reset every plot_every\n",
    "\n",
    "    encoder_optimizer = optim.SGD(encoder.parameters(), lr=learning_rate)\n",
    "    decoder_optimizer = optim.SGD(decoder.parameters(), lr=learning_rate)\n",
    "    training_pairs = [variablesFromPair(random.choice(pairs))\n",
    "                      for i in range(n_iters)]\n",
    "    criterion = nn.NLLLoss()\n",
    "\n",
    "    for iter in range(1, n_iters + 1):\n",
    "        training_pair = training_pairs[iter - 1]\n",
    "        input_variable = training_pair[0]\n",
    "        target_variable = training_pair[1]\n",
    "\n",
    "        loss = train(input_variable, target_variable, encoder,\n",
    "                     decoder, encoder_optimizer, decoder_optimizer, criterion)\n",
    "        print_loss_total += loss\n",
    "        plot_loss_total += loss\n",
    "\n",
    "        if iter % print_every == 0:\n",
    "            print_loss_avg = print_loss_total / print_every\n",
    "            print_loss_total = 0\n",
    "            print('%s (%d %d%%) %.4f' % (timeSince(start, iter / n_iters),\n",
    "                                         iter, iter / n_iters * 100, print_loss_avg))\n",
    "\n",
    "        if iter % plot_every == 0:\n",
    "            plot_loss_avg = plot_loss_total / plot_every\n",
    "            plot_losses.append(plot_loss_avg)\n",
    "            plot_loss_total = 0\n",
    "\n",
    "    showPlot(plot_losses)"
   ]
  },
  {
   "cell_type": "markdown",
   "metadata": {},
   "source": [
    "Plotting results\n",
    "----------------\n",
    "\n",
    "Plotting is done with matplotlib, using the array of loss values\n",
    "``plot_losses`` saved while training.\n",
    "\n",
    "\n"
   ]
  },
  {
   "cell_type": "code",
   "execution_count": 18,
   "metadata": {},
   "outputs": [],
   "source": [
    "import matplotlib.pyplot as plt\n",
    "import matplotlib.ticker as ticker\n",
    "import numpy as np\n",
    "\n",
    "\n",
    "def showPlot(points):\n",
    "    plt.figure()\n",
    "    fig, ax = plt.subplots()\n",
    "    # this locator puts ticks at regular intervals\n",
    "    loc = ticker.MultipleLocator(base=0.2)\n",
    "    ax.yaxis.set_major_locator(loc)\n",
    "    plt.plot(points)"
   ]
  },
  {
   "cell_type": "markdown",
   "metadata": {},
   "source": [
    "Evaluation\n",
    "==========\n",
    "\n",
    "Evaluation is mostly the same as training, but there are no targets so\n",
    "we simply feed the decoder's predictions back to itself for each step.\n",
    "Every time it predicts a word we add it to the output string, and if it\n",
    "predicts the EOS token we stop there. We also store the decoder's\n",
    "attention outputs for display later.\n",
    "\n",
    "\n"
   ]
  },
  {
   "cell_type": "code",
   "execution_count": 19,
   "metadata": {},
   "outputs": [],
   "source": [
    "def evaluate(encoder, decoder, sentence, max_length=MAX_LENGTH*ORDER):\n",
    "    input_variable = variableFromNGramList(vocab_ngrams, sentence, ORDER, NUM_WORDS)\n",
    "    input_length = input_variable.size()[0]\n",
    "    encoder_hidden = encoder.initHidden()\n",
    "\n",
    "    encoder_outputs = Variable(torch.zeros(max_length, encoder.hidden_size))\n",
    "    encoder_outputs = encoder_outputs.cuda() if use_cuda else encoder_outputs\n",
    "\n",
    "    for ei in range(input_length):\n",
    "        encoder_output, encoder_hidden = encoder(input_variable[ei],\n",
    "                                                 encoder_hidden)\n",
    "        encoder_outputs[ei] = encoder_outputs[ei] + encoder_output[0][0]\n",
    "\n",
    "    decoder_input = Variable(torch.LongTensor([[SOS_token]]))  # SOS\n",
    "    decoder_input = decoder_input.cuda() if use_cuda else decoder_input\n",
    "\n",
    "    decoder_hidden = encoder_hidden\n",
    "\n",
    "    decoded_words = []\n",
    "    decoder_attentions = torch.zeros(max_length, max_length)\n",
    "\n",
    "    for di in range(max_length):\n",
    "        decoder_output, decoder_hidden, decoder_attention = decoder(\n",
    "            decoder_input, decoder_hidden, encoder_outputs)\n",
    "        decoder_attentions[di] = decoder_attention.data\n",
    "#         decoder_output, decoder_hidden = decoder(\n",
    "#             decoder_input, decoder_hidden)\n",
    "        topv, topi = decoder_output.data.topk(1)\n",
    "        ni = topi[0][0]\n",
    "        if ni == EOS_token:\n",
    "            decoded_words.append('<EOS>')\n",
    "            break\n",
    "        else:\n",
    "            decoded_words.append(output_lang.index2word[ni])\n",
    "\n",
    "        decoder_input = Variable(torch.LongTensor([[ni]]))\n",
    "        decoder_input = decoder_input.cuda() if use_cuda else decoder_input\n",
    "\n",
    "    return decoded_words, decoder_attentions[:di + 1]\n",
    "#     return decoded_words"
   ]
  },
  {
   "cell_type": "markdown",
   "metadata": {},
   "source": [
    "We can evaluate random sentences from the training set and print out the\n",
    "input, target, and output to make some subjective quality judgements:\n",
    "\n",
    "\n"
   ]
  },
  {
   "cell_type": "code",
   "execution_count": 20,
   "metadata": {},
   "outputs": [],
   "source": [
    "def evaluateRandomly(encoder, decoder, n=10):\n",
    "    for i in range(n):\n",
    "        pair = random.choice(pairs)\n",
    "        print('>', pair[0])\n",
    "        print('=', pair[1])\n",
    "        output_words, attentions = evaluate(encoder, decoder, pair[0])\n",
    "#         output_words = evaluate(encoder, decoder, pair[0])\n",
    "        output_sentence = ' '.join(output_words)\n",
    "        print('<', output_sentence)\n",
    "        print('')"
   ]
  },
  {
   "cell_type": "markdown",
   "metadata": {},
   "source": [
    "Training and Evaluating\n",
    "=======================\n",
    "\n",
    "With all these helper functions in place (it looks like extra work, but\n",
    "it makes it easier to run multiple experiments) we can actually\n",
    "initialize a network and start training.\n",
    "\n",
    "Remember that the input sentences were heavily filtered. For this small\n",
    "dataset we can use relatively small networks of 256 hidden nodes and a\n",
    "single GRU layer. After about 40 minutes on a MacBook CPU we'll get some\n",
    "reasonable results.\n",
    "\n",
    ".. Note::\n",
    "   If you run this notebook you can train, interrupt the kernel,\n",
    "   evaluate, and continue training later. Comment out the lines where the\n",
    "   encoder and decoder are initialized and run ``trainIters`` again.\n",
    "\n",
    "\n"
   ]
  },
  {
   "cell_type": "code",
   "execution_count": 21,
   "metadata": {},
   "outputs": [],
   "source": [
    "# hidden_size = 256\n",
    "# encoder1 = EncoderRNN(input_lang.n_words, hidden_size)\n",
    "# attn_decoder1 = AttnDecoderRNN(hidden_size, output_lang.n_words, dropout_p=0.1)\n",
    "\n",
    "# if use_cuda:\n",
    "#     encoder1 = encoder1.cuda()\n",
    "#     attn_decoder1 = attn_decoder1.cuda()\n",
    "\n",
    "# trainIters(encoder1, attn_decoder1, 75000, print_every=5000)\n",
    "\n",
    "hidden_size = 100\n",
    "encoder1 = NGramEncoder(NUM_WORDS, hidden_size)\n",
    "attn_decoder1 = AttnDecoderRNN(hidden_size, output_lang.n_words, dropout_p=0.1)\n",
    "\n",
    "if use_cuda:\n",
    "    encoder1 = encoder1.cuda()\n",
    "    attn_decoder1 = attn_decoder1.cuda()"
   ]
  },
  {
   "cell_type": "code",
   "execution_count": 22,
   "metadata": {},
   "outputs": [
    {
     "name": "stdout",
     "output_type": "stream",
     "text": [
      "> ['japanese', 'you', '.', 'not', 'are', 'you are', 'japanese .', 'not japanese', 'are not']\n",
      "= you are not japanese .\n",
      "< i terrified father father nervous father nervous house american course course freshman swiss freshman\n",
      "\n",
      "> ['close', 'friend', 'he', '.', 'my', 'is', 'is my', 'my close', 'he is', 'friend .', 'close friend']\n",
      "= he is my close friend .\n",
      "< addict addict addict addict fooling fooling fooling fooling nature obstinate obstinate attack attack oddly\n",
      "\n",
      "> ['.', 'expensive', 're', 'they', 'not', 'expensive .', 're not', 'they re', 'not expensive']\n",
      "= they re not expensive .\n",
      "< portugal portugal now now comedians north north north north north north turning turning nature\n",
      "\n",
      "> ['i', 'good', '.', 'am', 'math', 'at', 'at math', 'math .', 'good at', 'i am', 'am good']\n",
      "= i am good at math .\n",
      "< writing finally finally finally starved starved aren fooling fooling fooling will turning freshman fussy\n",
      "\n",
      "> ['liar', 'a', 'bad', 's', 'he', '.', 's a', 'he s', 'a bad', 'liar .', 'bad liar']\n",
      "= he s a bad liar .\n",
      "< shivering man man man man giving short giving american giving wealthy employee presentable employee\n",
      "\n",
      "> ['i', 'm', 'terrified', '.', 'm terrified', 'i m', 'terrified .']\n",
      "= i m terrified .\n",
      "< spoiled spoiled spoiled spoiled realistic realistic letting realistic nervous sorcerer freshman sorcerer freshman mumbling\n",
      "\n",
      "> ['i', '.', 'an', 'm', 'orphan', 'orphan .', 'm an', 'i m', 'an orphan']\n",
      "= i m an orphan .\n",
      "< i spoiled spoiled spoiled spoiled spoiled turkey employee racists employee presentable racists oddly oddly\n",
      "\n",
      "> ['i', 'happy', 'm', 'not', '.', 'not happy', 'i m', 'm not', 'happy .']\n",
      "= i m not happy .\n",
      "< spoiled spoiled spoiled spoiled spoiled scapegoat america students students course sorcerer freshman sorcerer racists\n",
      "\n",
      "> ['.', 'you', 're', 'wonderful', 'you re', 'wonderful .', 're wonderful']\n",
      "= you re wonderful .\n",
      "< relax relax relax seems seems freshman swiss fussy fooling fooling fooling swiss freshman sorcerer\n",
      "\n",
      "> ['.', 'stylish', 'you', 're', 'very', 'stylish .', 'you re', 'very stylish', 're very']\n",
      "= you re very stylish .\n",
      "< mentally last weight weight realistic oddly oddly bread oddly football sorcerer sorcerer sorcerer insensitive\n",
      "\n"
     ]
    }
   ],
   "source": [
    "evaluateRandomly(encoder1, attn_decoder1)"
   ]
  },
  {
   "cell_type": "code",
   "execution_count": 23,
   "metadata": {},
   "outputs": [
    {
     "name": "stdout",
     "output_type": "stream",
     "text": [
      "0m 42s (- 34m 26s) (1000 2%) 2.6158\n",
      "1m 16s (- 30m 28s) (2000 4%) 2.0001\n",
      "1m 50s (- 28m 47s) (3000 6%) 1.7082\n",
      "2m 24s (- 27m 42s) (4000 8%) 1.4472\n",
      "2m 59s (- 26m 52s) (5000 10%) 1.2728\n",
      "3m 32s (- 25m 59s) (6000 12%) 1.1229\n",
      "4m 7s (- 25m 17s) (7000 14%) 1.0333\n",
      "4m 40s (- 24m 32s) (8000 16%) 0.8566\n",
      "5m 15s (- 23m 56s) (9000 18%) 0.8364\n",
      "5m 50s (- 23m 20s) (10000 20%) 0.7272\n",
      "6m 25s (- 22m 45s) (11000 22%) 0.6243\n",
      "6m 59s (- 22m 9s) (12000 24%) 0.6236\n",
      "7m 34s (- 21m 34s) (13000 26%) 0.5349\n",
      "8m 10s (- 21m 0s) (14000 28%) 0.5195\n",
      "8m 45s (- 20m 25s) (15000 30%) 0.4567\n",
      "9m 20s (- 19m 50s) (16000 32%) 0.4100\n",
      "9m 55s (- 19m 15s) (17000 34%) 0.3841\n",
      "10m 30s (- 18m 40s) (18000 36%) 0.3668\n",
      "11m 5s (- 18m 5s) (19000 38%) 0.3330\n",
      "11m 40s (- 17m 30s) (20000 40%) 0.3498\n",
      "12m 15s (- 16m 55s) (21000 42%) 0.3300\n",
      "12m 50s (- 16m 21s) (22000 44%) 0.2483\n",
      "13m 25s (- 15m 45s) (23000 46%) 0.2734\n",
      "14m 0s (- 15m 10s) (24000 48%) 0.2282\n",
      "14m 35s (- 14m 35s) (25000 50%) 0.2160\n",
      "15m 10s (- 14m 0s) (26000 52%) 0.1633\n",
      "15m 45s (- 13m 25s) (27000 54%) 0.1975\n",
      "16m 20s (- 12m 50s) (28000 56%) 0.1776\n",
      "16m 55s (- 12m 15s) (29000 57%) 0.1442\n",
      "17m 30s (- 11m 40s) (30000 60%) 0.1684\n",
      "18m 5s (- 11m 5s) (31000 62%) 0.1501\n",
      "18m 40s (- 10m 30s) (32000 64%) 0.1316\n",
      "19m 16s (- 9m 55s) (33000 66%) 0.1104\n",
      "19m 51s (- 9m 20s) (34000 68%) 0.1183\n",
      "20m 26s (- 8m 45s) (35000 70%) 0.1015\n",
      "21m 1s (- 8m 10s) (36000 72%) 0.0885\n",
      "21m 36s (- 7m 35s) (37000 74%) 0.0935\n",
      "22m 12s (- 7m 0s) (38000 76%) 0.0814\n",
      "22m 48s (- 6m 25s) (39000 78%) 0.0814\n",
      "23m 23s (- 5m 50s) (40000 80%) 0.0664\n",
      "23m 58s (- 5m 15s) (41000 82%) 0.0580\n",
      "24m 33s (- 4m 40s) (42000 84%) 0.0728\n",
      "25m 8s (- 4m 5s) (43000 86%) 0.0733\n",
      "25m 43s (- 3m 30s) (44000 88%) 0.0625\n",
      "26m 18s (- 2m 55s) (45000 90%) 0.0578\n",
      "26m 54s (- 2m 20s) (46000 92%) 0.0490\n",
      "27m 32s (- 1m 45s) (47000 94%) 0.0542\n",
      "28m 9s (- 1m 10s) (48000 96%) 0.0531\n",
      "28m 49s (- 0m 35s) (49000 98%) 0.0475\n",
      "29m 26s (- 0m 0s) (50000 100%) 0.0430\n"
     ]
    },
    {
     "data": {
      "text/plain": [
       "<matplotlib.figure.Figure at 0x7fadcf2612e8>"
      ]
     },
     "metadata": {},
     "output_type": "display_data"
    },
    {
     "data": {
      "image/png": "[encoded data removed]",
      "text/plain": [
       "<matplotlib.figure.Figure at 0x7fadd5ad94e0>"
      ]
     },
     "metadata": {},
     "output_type": "display_data"
    }
   ],
   "source": [
    "trainIters(encoder1, attn_decoder1, 50000, print_every=1000)"
   ]
  },
  {
   "cell_type": "code",
   "execution_count": 24,
   "metadata": {},
   "outputs": [
    {
     "name": "stdout",
     "output_type": "stream",
     "text": [
      "> ['i', 'observant', 'm', '.', 'm observant', 'observant .', 'i m']\n",
      "= i m observant .\n",
      "< i m observant . <EOS>\n",
      "\n",
      "> ['.', 'getting', 'we', 're', 'closer', 'getting closer', 'closer .', 'we re', 're getting']\n",
      "= we re getting closer .\n",
      "< we re getting closer . <EOS>\n",
      "\n",
      "> ['.', 'you', 're', 'early', 're early', 'you re', 'early .']\n",
      "= you re early .\n",
      "< you re early . <EOS>\n",
      "\n",
      "> ['i', 'a', 'am', 'muslim', '.', 'a muslim', 'am a', 'i am', 'muslim .']\n",
      "= i am a muslim .\n",
      "< i am a muslim . <EOS>\n",
      "\n",
      "> ['different', 'you', 're', 'no', '.', 'you re', 'different .', 're no', 'no different']\n",
      "= you re no different .\n",
      "< you re no different . <EOS>\n",
      "\n",
      "> ['.', 'japanese', 'she', 'well', 'spoke', 'she spoke', 'well .', 'japanese well', 'spoke japanese']\n",
      "= she spoke japanese well .\n",
      "< she spoke japanese japanese . <EOS>\n",
      "\n",
      "> ['i', 'retired', 'too', 'm', '.', 'retired too', 'i m', 'm retired', 'too .']\n",
      "= i m retired too .\n",
      "< i m retired too . <EOS>\n",
      "\n",
      "> ['.', 'we', 're', 'overreacting', 're overreacting', 'we re', 'overreacting .']\n",
      "= we re overreacting .\n",
      "< we re overreacting . <EOS>\n",
      "\n",
      "> ['i', 'management', 'consultant', 'a', '.', 'm', 'a management', 'consultant .', 'management consultant', 'i m', 'm a']\n",
      "= i m a management consultant .\n",
      "< i m a management consultant . <EOS>\n",
      "\n",
      "> ['i', 'having', 'fun', 'm', '.', 'having fun', 'm having', 'fun .', 'i m']\n",
      "= i m having fun .\n",
      "< i m having fun . <EOS>\n",
      "\n"
     ]
    }
   ],
   "source": [
    "evaluateRandomly(encoder1, attn_decoder1)"
   ]
  },
  {
   "cell_type": "code",
   "execution_count": 23,
   "metadata": {},
   "outputs": [],
   "source": [
    "#extract as list, not set\n",
    "def ngram_extractor_eval(sent, order=1):\n",
    "    ngrams = []\n",
    "    \n",
    "    # tokenization\n",
    "    uwords = [t.text for t in nlp(str(sent))]\n",
    "    \n",
    "    # extract ngrams\n",
    "    for oo in range(1, order + 1):\n",
    "        for ng in ([' '.join(t).strip() for t in zip(*[uwords[i:] for i in range(oo)])]):\n",
    "            ngrams.append(ng)\n",
    "            \n",
    "    return ngrams\n",
    "\n",
    "\n",
    "#ROUGE Score, match/reference length\n",
    "def ROUGE(cand, ref, n=ORDER):\n",
    "    cand_ngrams = ngram_extractor_eval(cand, n)\n",
    "    ref_ngrams = ngram_extractor_eval(ref, n)\n",
    "    count = 0\n",
    "    for gram in ref_ngrams:\n",
    "        if gram in cand_ngrams:\n",
    "            count += 1\n",
    "    return count/len(cand_ngrams)\n",
    "\n",
    "#BLEU Score, match/candidate length, without clipping\n",
    "def BLEU(cand, ref, n=ORDER):\n",
    "    cand_ngrams = ngram_extractor_eval(cand, n)\n",
    "    ref_ngrams = ngram_extractor_eval(ref, n)\n",
    "    count = 0\n",
    "    for gram in cand_ngrams:\n",
    "        if gram in ref_ngrams:\n",
    "            count += 1\n",
    "    return count/len(ref_ngrams)\n",
    "\n",
    "def BLEU_clip(cand, ref, n=ORDER):\n",
    "    cand_ngrams = ngram_extractor_eval(cand, n)\n",
    "    ref_ngrams = ngram_extractor_eval(ref, n)\n",
    "    l = len(ref_ngrams)\n",
    "    count = 0\n",
    "    for gram in cand_ngrams:\n",
    "        if gram in ref_ngrams:\n",
    "            count += 1\n",
    "            ref_ngrams.remove(gram)\n",
    "    return count/l\n",
    "\n",
    "#Coherence score is used for paragraphs, not used yet\n",
    "def Coherence():\n",
    "    pass\n",
    "\n",
    "def score(list_cand, list_ref, n=ORDER, method='ROUGE'):\n",
    "    score = 0\n",
    "    dic = {'ROUGE':ROUGE, 'BLEU':BLEU, 'BLEU_clip':BLEU_clip}\n",
    "    fun = dic[method]\n",
    "    num_sent = len(list_cand)\n",
    "    for i in range(num_sent):\n",
    "        score += fun(list_cand[i], list_ref[i], n)\n",
    "    return score/num_sent"
   ]
  },
  {
   "cell_type": "code",
   "execution_count": 34,
   "metadata": {},
   "outputs": [],
   "source": [
    "def evaluateRandomlyWithScore(encoder, decoder, n=10, method=\"ROUGE\"):\n",
    "    list_cand = []\n",
    "    list_ref = []\n",
    "    for i in range(n):\n",
    "        pair = random.choice(pairs)\n",
    "        print('>', pair[0])\n",
    "        print('=', pair[1])\n",
    "        output_words, attentions = evaluate(encoder, decoder, pair[0])\n",
    "#         output_words = evaluate(encoder, decoder, pair[0])\n",
    "        output_sentence = ' '.join(output_words)\n",
    "        print('<', output_sentence)\n",
    "        print('')\n",
    "        list_cand.append(output_sentence)\n",
    "        list_ref.append(pair[1])\n",
    "    print(score(list_cand, list_ref, method=method))"
   ]
  },
  {
   "cell_type": "code",
   "execution_count": 35,
   "metadata": {},
   "outputs": [
    {
     "name": "stdout",
     "output_type": "stream",
     "text": [
      "> ['m', '.', 'i', 'lazy', 'm lazy', 'i m', 'lazy .']\n",
      "= i m lazy .\n",
      "< powerless adaptable smiled missed magician magician magician interested creative confused creative weird weird weird\n",
      "\n",
      "> ['we', 're', 'impressed', 'not', '.', 're not', 'impressed .', 'not impressed', 'we re']\n",
      "= we re not impressed .\n",
      "< staying dubious dubious magician magician magician confused exhausted confused analyzing confused analyzing analyzing confused\n",
      "\n",
      "> ['we', 're', 'all', '.', 'bored', 'all bored', 're all', 'bored .', 'we re']\n",
      "= we re all bored .\n",
      "< starting garden accustomed ill head confused confused jump analyzing analyzing confused analyzing strict dinner\n",
      "\n",
      "> ['very', 're', 'you', '.', 'upset', 'upset .', 're very', 'very upset', 'you re']\n",
      "= you re very upset .\n",
      "< joking joking joking fascinating fascinating fascinating fascinating football magician terms football dinner football dinner\n",
      "\n",
      "> ['re', 'you', 'early', '.', 're early', 'you re', 'early .']\n",
      "= you re early .\n",
      "< dinner dinner taking golf jump golf jump bossy bossy analyzing confused analyzing confused analyzing\n",
      "\n",
      "> ['.', 'used', 'it', 'm', 'to', 'i', 'm used', 'i m', 'to it', 'used to', 'it .']\n",
      "= i m used to it .\n",
      "< faking faking faking gathering faking fine considerate considerate dinner practically interested practically practically interested\n",
      "\n",
      "> ['we', 're', '.', 'rich', 're rich', 'rich .', 'we re']\n",
      "= we re rich .\n",
      "< song song song highly amusing amusing weird weird weird weird goldfish football dinner dinner\n",
      "\n",
      "> ['re', 'you', 'overworked', '.', 'overworked .', 're overworked', 'you re']\n",
      "= you re overworked .\n",
      "< joking late late panicking weird week week dinner dinner football dinner football dinner dinner\n",
      "\n",
      "> ['is', 'smart', '.', 'he', 'is smart', 'he is', 'smart .']\n",
      "= he is smart .\n",
      "< safe safe remember remember remember jump bossy missed creative bossy missed creative weird creative\n",
      "\n",
      "> ['are', '.', 'very', 'big', 'they', 'they are', 'very big', 'big .', 'are very']\n",
      "= they are very big .\n",
      "< making pain dinner dinner house dinner dinner dinner exhausted confused analyzing confused analyzing analyzing\n",
      "\n",
      "0.0\n"
     ]
    }
   ],
   "source": [
    "evaluateRandomlyWithScore(encoder1, attn_decoder1)"
   ]
  },
  {
   "cell_type": "code",
   "execution_count": 37,
   "metadata": {},
   "outputs": [
    {
     "name": "stdout",
     "output_type": "stream",
     "text": [
      "0.7777777777777778\n"
     ]
    }
   ],
   "source": [
    "print(score([\"i m a management consultant\"], [\"i m a management person\"]))"
   ]
  },
  {
   "cell_type": "markdown",
   "metadata": {},
   "source": [
    "Visualizing Attention\n",
    "---------------------\n",
    "\n",
    "A useful property of the attention mechanism is its highly interpretable\n",
    "outputs. Because it is used to weight specific encoder outputs of the\n",
    "input sequence, we can imagine looking where the network is focused most\n",
    "at each time step.\n",
    "\n",
    "You could simply run ``plt.matshow(attentions)`` to see attention output\n",
    "displayed as a matrix, with the columns being input steps and rows being\n",
    "output steps:\n",
    "\n",
    "\n"
   ]
  },
  {
   "cell_type": "code",
   "execution_count": 25,
   "metadata": {},
   "outputs": [
    {
     "data": {
      "text/plain": [
       "<matplotlib.image.AxesImage at 0x7fadcdec9630>"
      ]
     },
     "execution_count": 25,
     "metadata": {},
     "output_type": "execute_result"
    },
    {
     "data": {
      "image/png": "[encoded data removed]",
      "text/plain": [
       "<matplotlib.figure.Figure at 0x7fadcdfbabe0>"
      ]
     },
     "metadata": {},
     "output_type": "display_data"
    }
   ],
   "source": [
    "output_words, attentions = evaluate(\n",
    "    encoder1, attn_decoder1, \"I have a dream .\")\n",
    "plt.matshow(attentions.numpy())"
   ]
  },
  {
   "cell_type": "markdown",
   "metadata": {},
   "source": [
    "For a better viewing experience we will do the extra work of adding axes\n",
    "and labels:\n",
    "\n",
    "\n"
   ]
  },
  {
   "cell_type": "code",
   "execution_count": 26,
   "metadata": {},
   "outputs": [
    {
     "name": "stdout",
     "output_type": "stream",
     "text": [
      "input = elle a cinq ans de moins que moi .\n",
      "output = i m a a terrible . <EOS>\n"
     ]
    },
    {
     "data": {
      "image/png": "[encoded data removed]",
      "text/plain": [
       "<matplotlib.figure.Figure at 0x7fadcdea3208>"
      ]
     },
     "metadata": {},
     "output_type": "display_data"
    },
    {
     "name": "stdout",
     "output_type": "stream",
     "text": [
      "input = elle est trop petit .\n",
      "output = i m t t cold . <EOS>\n"
     ]
    },
    {
     "data": {
      "image/png": "[encoded data removed]",
      "text/plain": [
       "<matplotlib.figure.Figure at 0x7fadcdf58278>"
      ]
     },
     "metadata": {},
     "output_type": "display_data"
    },
    {
     "name": "stdout",
     "output_type": "stream",
     "text": [
      "input = je ne crains pas de mourir .\n",
      "output = i m a a sweetheart . <EOS>\n"
     ]
    },
    {
     "data": {
      "image/png": "[encoded data removed]",
      "text/plain": [
       "<matplotlib.figure.Figure at 0x7fadcdf279b0>"
      ]
     },
     "metadata": {},
     "output_type": "display_data"
    },
    {
     "name": "stdout",
     "output_type": "stream",
     "text": [
      "input = c est un jeune directeur plein de talent .\n",
      "output = i m t t t . <EOS>\n"
     ]
    },
    {
     "data": {
      "image/png": "[encoded data removed]",
      "text/plain": [
       "<matplotlib.figure.Figure at 0x7fae4c2f94e0>"
      ]
     },
     "metadata": {},
     "output_type": "display_data"
    }
   ],
   "source": [
    "def showAttention(input_sentence, output_words, attentions):\n",
    "    # Set up figure with colorbar\n",
    "    fig = plt.figure()\n",
    "    ax = fig.add_subplot(111)\n",
    "    cax = ax.matshow(attentions.numpy(), cmap='bone')\n",
    "    fig.colorbar(cax)\n",
    "\n",
    "    # Set up axes\n",
    "    ax.set_xticklabels([''] + input_sentence.split(' ') +\n",
    "                       ['<EOS>'], rotation=90)\n",
    "    ax.set_yticklabels([''] + output_words)\n",
    "\n",
    "    # Show label at every tick\n",
    "    ax.xaxis.set_major_locator(ticker.MultipleLocator(1))\n",
    "    ax.yaxis.set_major_locator(ticker.MultipleLocator(1))\n",
    "\n",
    "    plt.show()\n",
    "\n",
    "\n",
    "def evaluateAndShowAttention(input_sentence):\n",
    "    output_words, attentions = evaluate(\n",
    "        encoder1, attn_decoder1, input_sentence)\n",
    "    print('input =', input_sentence)\n",
    "    print('output =', ' '.join(output_words))\n",
    "    showAttention(input_sentence, output_words, attentions)\n",
    "\n",
    "\n",
    "evaluateAndShowAttention(\"elle a cinq ans de moins que moi .\")\n",
    "\n",
    "evaluateAndShowAttention(\"elle est trop petit .\")\n",
    "\n",
    "evaluateAndShowAttention(\"je ne crains pas de mourir .\")\n",
    "\n",
    "evaluateAndShowAttention(\"c est un jeune directeur plein de talent .\")"
   ]
  },
  {
   "cell_type": "markdown",
   "metadata": {},
   "source": [
    "Exercises\n",
    "=========\n",
    "\n",
    "-  Try with a different dataset\n",
    "\n",
    "   -  Another language pair\n",
    "   -  Human → Machine (e.g. IOT commands)\n",
    "   -  Chat → Response\n",
    "   -  Question → Answer\n",
    "\n",
    "-  Replace the embeddings with pre-trained word embeddings such as word2vec or\n",
    "   GloVe\n",
    "-  Try with more layers, more hidden units, and more sentences. Compare\n",
    "   the training time and results.\n",
    "-  If you use a translation file where pairs have two of the same phrase\n",
    "   (``I am test \\t I am test``), you can use this as an autoencoder. Try\n",
    "   this:\n",
    "\n",
    "   -  Train as an autoencoder\n",
    "   -  Save only the Encoder network\n",
    "   -  Train a new Decoder for translation from there\n",
    "\n",
    "\n"
   ]
  },
  {
   "cell_type": "code",
   "execution_count": null,
   "metadata": {},
   "outputs": [],
   "source": []
  }
 ],
 "metadata": {
  "kernelspec": {
   "display_name": "Python 3",
   "language": "python",
   "name": "python3"
  },
  "language_info": {
   "codemirror_mode": {
    "name": "ipython",
    "version": 3
   },
   "file_extension": ".py",
   "mimetype": "text/x-python",
   "name": "python",
   "nbconvert_exporter": "python",
   "pygments_lexer": "ipython3",
   "version": "3.5.2"
  }
 },
 "nbformat": 4,
 "nbformat_minor": 1
}
